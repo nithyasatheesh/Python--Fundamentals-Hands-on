{
 "cells": [
  {
   "cell_type": "markdown",
   "id": "47c40003",
   "metadata": {},
   "source": [
    "#### Python Fundamentals\n",
    "\n",
    "- Data types\n",
    "\n",
    "- Built in statements\n",
    "\n",
    "- Operators"
   ]
  },
  {
   "cell_type": "code",
   "execution_count": null,
   "id": "2df45257",
   "metadata": {},
   "outputs": [],
   "source": []
  },
  {
   "cell_type": "code",
   "execution_count": null,
   "id": "d02a3f9b",
   "metadata": {},
   "outputs": [],
   "source": []
  },
  {
   "cell_type": "code",
   "execution_count": null,
   "id": "ef884e52",
   "metadata": {},
   "outputs": [],
   "source": []
  },
  {
   "cell_type": "code",
   "execution_count": null,
   "id": "0e7cccbf",
   "metadata": {},
   "outputs": [],
   "source": []
  },
  {
   "cell_type": "code",
   "execution_count": null,
   "id": "58768d55",
   "metadata": {},
   "outputs": [],
   "source": []
  },
  {
   "cell_type": "code",
   "execution_count": null,
   "id": "434816e8",
   "metadata": {},
   "outputs": [],
   "source": []
  },
  {
   "cell_type": "code",
   "execution_count": null,
   "id": "a1413931",
   "metadata": {},
   "outputs": [],
   "source": []
  },
  {
   "cell_type": "code",
   "execution_count": null,
   "id": "369734ce",
   "metadata": {},
   "outputs": [],
   "source": []
  },
  {
   "cell_type": "code",
   "execution_count": null,
   "id": "160bec0b",
   "metadata": {},
   "outputs": [],
   "source": []
  },
  {
   "cell_type": "code",
   "execution_count": null,
   "id": "4c6437e1",
   "metadata": {},
   "outputs": [],
   "source": []
  },
  {
   "cell_type": "code",
   "execution_count": null,
   "id": "91d17eae",
   "metadata": {},
   "outputs": [],
   "source": []
  },
  {
   "cell_type": "code",
   "execution_count": null,
   "id": "ef5f1090",
   "metadata": {},
   "outputs": [],
   "source": []
  },
  {
   "cell_type": "code",
   "execution_count": null,
   "id": "3e909b33",
   "metadata": {},
   "outputs": [],
   "source": []
  },
  {
   "cell_type": "code",
   "execution_count": null,
   "id": "d5de2bdc",
   "metadata": {},
   "outputs": [],
   "source": []
  },
  {
   "cell_type": "code",
   "execution_count": null,
   "id": "58308f02",
   "metadata": {},
   "outputs": [],
   "source": []
  },
  {
   "cell_type": "code",
   "execution_count": null,
   "id": "f59ca562",
   "metadata": {},
   "outputs": [],
   "source": []
  },
  {
   "cell_type": "code",
   "execution_count": null,
   "id": "497c2776",
   "metadata": {},
   "outputs": [],
   "source": []
  },
  {
   "cell_type": "code",
   "execution_count": null,
   "id": "a0f08942",
   "metadata": {},
   "outputs": [],
   "source": []
  },
  {
   "cell_type": "markdown",
   "id": "f16d4e88",
   "metadata": {},
   "source": [
    "### Operators \n",
    "\n",
    "Operators are used to perform operations on variables and values.OPERATORS: Are the special symbols. Eg- + , * , /, etc.\n",
    "\n",
    "- Arithmetic operators\n",
    "- Bitwise operators\n",
    "- Boolean operators\n",
    "- Assignment operators\n",
    "- Relational operators\n",
    "- Operators precedence"
   ]
  },
  {
   "cell_type": "markdown",
   "id": "89a3cf5e",
   "metadata": {},
   "source": [
    "#### Arithmetic operators"
   ]
  },
  {
   "cell_type": "raw",
   "id": "1658ade7",
   "metadata": {},
   "source": [
    "Operator\tDescription\tSyntax\n",
    "+\t          Addition: adds two operands\tx + y\n",
    "–\t          Subtraction: subtracts two operands\tx – y\n",
    "*\t          Multiplication: multiplies two operands\tx * y\n",
    "/\t          Division (float): divides the first operand by the second\tx / y\n",
    "//\t          Division (floor): divides the first operand by the second\tx // y\n",
    "%\t          Modulus: returns the remainder when the first operand is divided by the second\tx % y\n",
    "**\t          Power: Returns first raised to power second\tx ** y"
   ]
  },
  {
   "cell_type": "code",
   "execution_count": null,
   "id": "fa5b0f9f",
   "metadata": {},
   "outputs": [],
   "source": []
  },
  {
   "cell_type": "code",
   "execution_count": null,
   "id": "e1c29525",
   "metadata": {},
   "outputs": [],
   "source": []
  },
  {
   "cell_type": "code",
   "execution_count": null,
   "id": "be82d918",
   "metadata": {},
   "outputs": [],
   "source": []
  },
  {
   "cell_type": "code",
   "execution_count": null,
   "id": "1e800525",
   "metadata": {},
   "outputs": [],
   "source": []
  },
  {
   "cell_type": "code",
   "execution_count": null,
   "id": "a49c2c11",
   "metadata": {},
   "outputs": [],
   "source": []
  },
  {
   "cell_type": "markdown",
   "id": "d6f9c8bd",
   "metadata": {},
   "source": [
    "#### Bitwise operators"
   ]
  },
  {
   "cell_type": "raw",
   "id": "80689edd",
   "metadata": {},
   "source": [
    "In Python, bitwise operators are used to performing bitwise calculations on integers. The integers are first converted into binary and then operations are performed on bit by bit, hence the name bitwise operators\n",
    "\n",
    "OPERATOR\t       DESCRIPTION\tSYNTAX\n",
    "\n",
    "&\t               Bitwise AND\tx & y\n",
    "\n",
    "|\t               Bitwise OR\tx | y\n",
    "\n",
    "~\t               Bitwise NOT\t~x\n"
   ]
  },
  {
   "cell_type": "code",
   "execution_count": null,
   "id": "7df4f9b7",
   "metadata": {},
   "outputs": [],
   "source": []
  },
  {
   "cell_type": "code",
   "execution_count": null,
   "id": "74006158",
   "metadata": {},
   "outputs": [],
   "source": []
  },
  {
   "cell_type": "code",
   "execution_count": null,
   "id": "d1274bbf",
   "metadata": {},
   "outputs": [],
   "source": []
  },
  {
   "cell_type": "markdown",
   "id": "d42a3819",
   "metadata": {},
   "source": [
    "#### Relational operators"
   ]
  },
  {
   "cell_type": "raw",
   "id": "9c2b0772",
   "metadata": {},
   "source": [
    "Operator\t                             Description\t                                      Syntax\n",
    "<\t                               Less than: True if the left operand is less than the right\tx < y\n",
    "==\t                               Equal to: True if both operands are equal\t                x == y\n",
    "!=\t                               Not equal to – True if operands are not equal\t            x != y\n",
    ">=\t                               Greater than or equal to: True if left operand is            x >= y\n",
    "                                     greater than or equal to the right\t"
   ]
  },
  {
   "cell_type": "code",
   "execution_count": null,
   "id": "47d2cd8a",
   "metadata": {},
   "outputs": [],
   "source": []
  },
  {
   "cell_type": "code",
   "execution_count": null,
   "id": "c369d965",
   "metadata": {},
   "outputs": [],
   "source": []
  },
  {
   "cell_type": "code",
   "execution_count": null,
   "id": "d5c29872",
   "metadata": {},
   "outputs": [],
   "source": []
  },
  {
   "cell_type": "code",
   "execution_count": null,
   "id": "bd338e6e",
   "metadata": {},
   "outputs": [],
   "source": []
  },
  {
   "cell_type": "markdown",
   "id": "7dc4caa5",
   "metadata": {},
   "source": [
    "#### Boolean operators\n",
    "The logical operators and, or and not are also referred to as boolean operators."
   ]
  },
  {
   "cell_type": "raw",
   "id": "22599eaf",
   "metadata": {},
   "source": [
    "Operator\t             Description\t                                              Example\n",
    "and\t             Returns True if both statements are true\t                     x < 5 and x < 10\n",
    "or\t             Returns True if one of the statements is true\t                 x < 5 or x < 4\n",
    "not\t             Reverse the result, returns False if the result is true \t     not(x < 5 and x < 10)"
   ]
  },
  {
   "cell_type": "code",
   "execution_count": null,
   "id": "c4281bc6",
   "metadata": {},
   "outputs": [],
   "source": []
  },
  {
   "cell_type": "code",
   "execution_count": null,
   "id": "890b0233",
   "metadata": {},
   "outputs": [],
   "source": []
  },
  {
   "cell_type": "code",
   "execution_count": null,
   "id": "42fb428f",
   "metadata": {},
   "outputs": [],
   "source": []
  },
  {
   "cell_type": "code",
   "execution_count": null,
   "id": "d645925f",
   "metadata": {},
   "outputs": [],
   "source": []
  },
  {
   "cell_type": "code",
   "execution_count": null,
   "id": "5aaa4aac",
   "metadata": {},
   "outputs": [],
   "source": []
  },
  {
   "cell_type": "markdown",
   "id": "1ff5fb9c",
   "metadata": {},
   "source": [
    "#### Assignment operators"
   ]
  },
  {
   "cell_type": "raw",
   "id": "5519030e",
   "metadata": {},
   "source": [
    "Python Assignment Operators\n",
    "Operator\t                     Example\t        Same As\n",
    "+=\t                              x += 3\t     x = x + 3\n",
    "-=\t                              x -= 3\t     x = x - 3\n",
    "*=\t                              x *= 3\t     x = x * 3\n",
    "/=\t                              x /= 3\t     x = x / 3"
   ]
  },
  {
   "cell_type": "code",
   "execution_count": null,
   "id": "79a58710",
   "metadata": {},
   "outputs": [],
   "source": []
  },
  {
   "cell_type": "code",
   "execution_count": null,
   "id": "291cdd17",
   "metadata": {},
   "outputs": [],
   "source": []
  },
  {
   "cell_type": "code",
   "execution_count": null,
   "id": "0cde5787",
   "metadata": {},
   "outputs": [],
   "source": []
  },
  {
   "cell_type": "raw",
   "id": "639cdc1c",
   "metadata": {},
   "source": [
    "PRECEDENCE:\n",
    "\n",
    "P – Parentheses\n",
    "E – Exponentiation\n",
    "M – Multiplication     (Multiplication and division have the same precedence)\n",
    "D – Division\n",
    "A – Addition     (Addition and subtraction have the same precedence)\n",
    "S – Subtraction"
   ]
  },
  {
   "cell_type": "code",
   "execution_count": null,
   "id": "38826996",
   "metadata": {},
   "outputs": [],
   "source": []
  },
  {
   "cell_type": "code",
   "execution_count": null,
   "id": "13c4e5b5",
   "metadata": {},
   "outputs": [],
   "source": []
  },
  {
   "cell_type": "code",
   "execution_count": null,
   "id": "1ffbc54d",
   "metadata": {},
   "outputs": [],
   "source": []
  },
  {
   "cell_type": "code",
   "execution_count": null,
   "id": "75f3c74c",
   "metadata": {},
   "outputs": [],
   "source": []
  },
  {
   "cell_type": "code",
   "execution_count": null,
   "id": "91cc5f33",
   "metadata": {},
   "outputs": [],
   "source": [
    "Hands-on-Problems"
   ]
  },
  {
   "cell_type": "markdown",
   "id": "5edeed3b",
   "metadata": {},
   "source": [
    "**What happens when you multiply an integer or float by True? What happens when you multiply them by False? **\n",
    "- How does the answer change if the numbers are positive or negative?\n",
    "- What happens when you multiply a string by True? By False?\n",
    "\n",
    "**Your goal is to determine what happens when you multiply a boolean by any of these data types. Specifically**"
   ]
  },
  {
   "cell_type": "markdown",
   "id": "46e0f77f",
   "metadata": {},
   "source": [
    "**Write a Python program to calculatethe length of a string**"
   ]
  },
  {
   "cell_type": "markdown",
   "id": "dbef5f06",
   "metadata": {},
   "source": [
    "**Declare 5 as num_one and 4 as num_two**\n",
    "- Add num_one and num_two and assign the value to a variable total\n",
    "- Subtract num_two from num_one and assign the value to a variable diff\n",
    "- Multiply num_two and num_one and assign the value to a variable product\n",
    "- Divide num_one by num_two and assign the value to a variable division\n",
    "- Use modulus division to find num_two divided by num_one and assign the value to a variable remainder\n",
    "- Calculate num_one to the power of num_two and assign the value to a variable exp\n",
    "- Find floor division of num_one by num_two and assign the value to a variable floor_division"
   ]
  },
  {
   "cell_type": "markdown",
   "id": "c27d2be9",
   "metadata": {},
   "source": [
    "**Write a script that prompts the user to enter base and height of the triangle and calculate an area of this triangle (area = 0.5 x b x h)**"
   ]
  },
  {
   "cell_type": "markdown",
   "id": "9a1210a5",
   "metadata": {},
   "source": [
    "**Use and operator to check if 'on' is found in both 'python' and 'dragon'**"
   ]
  },
  {
   "cell_type": "markdown",
   "id": "86f70ee7",
   "metadata": {},
   "source": [
    "**Find the length of the text python and convert the value to float and convert it to string**"
   ]
  },
  {
   "cell_type": "markdown",
   "id": "eafbe1db",
   "metadata": {},
   "source": [
    "**Even numbers are divisible by 2 and the remainder is zero. How do you check if a number is even or not using python?**"
   ]
  },
  {
   "cell_type": "markdown",
   "id": "4d2b2204",
   "metadata": {},
   "source": [
    "**Check if the floor division of 7 by 3 is equal to the int converted value of 2.7**"
   ]
  },
  {
   "cell_type": "markdown",
   "id": "aeccafc6",
   "metadata": {},
   "source": [
    "**Check if type of '10' is equal to type of 10**\n"
   ]
  },
  {
   "cell_type": "markdown",
   "id": "fc6c09ee",
   "metadata": {},
   "source": [
    "**Check if int('9.8') is equal to 10**\n"
   ]
  },
  {
   "cell_type": "markdown",
   "id": "8ce90698",
   "metadata": {},
   "source": [
    "**Write a script that prompts the user to enter hours and rate per hour. Calculate pay of the person?**"
   ]
  },
  {
   "cell_type": "markdown",
   "id": "d739ae5a",
   "metadata": {},
   "source": [
    "**Convert 645 minutes into hours**"
   ]
  },
  {
   "cell_type": "code",
   "execution_count": null,
   "id": "3e380044",
   "metadata": {},
   "outputs": [],
   "source": [
    "#1. Find the average of two number entered by the user\n",
    "#2. Find the remainder whena number is divided by 3\n",
    "#3. Use comparison operator to find out whether a given variable a is greater than b or not.a=34,b=80\n",
    "#4. Calculate the square of a number entered by user\n",
    "#5. Write a program to display the last two digits of a number entered by the user."
   ]
  }
 ],
 "metadata": {
  "kernelspec": {
   "display_name": "Python 3 (ipykernel)",
   "language": "python",
   "name": "python3"
  },
  "language_info": {
   "codemirror_mode": {
    "name": "ipython",
    "version": 3
   },
   "file_extension": ".py",
   "mimetype": "text/x-python",
   "name": "python",
   "nbconvert_exporter": "python",
   "pygments_lexer": "ipython3",
   "version": "3.9.13"
  }
 },
 "nbformat": 4,
 "nbformat_minor": 5
}
